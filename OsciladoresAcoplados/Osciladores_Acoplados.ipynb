{
  "nbformat": 4,
  "nbformat_minor": 0,
  "metadata": {
    "colab": {
      "name": "Osciladores Acoplados.ipynb",
      "provenance": [],
      "collapsed_sections": []
    },
    "kernelspec": {
      "name": "python3",
      "display_name": "Python 3"
    }
  },
  "cells": [
    {
      "cell_type": "code",
      "metadata": {
        "id": "1VoE1ZUAMUKw",
        "colab": {
          "resources": {
            "http://localhost:8080/nbextensions/google.colab/files.js": {
              "data": "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",
              "ok": true,
              "headers": [
                [
                  "content-type",
                  "application/javascript"
                ]
              ],
              "status": 200,
              "status_text": "OK"
            }
          },
          "base_uri": "https://localhost:8080/",
          "height": 77
        },
        "outputId": "653700a0-8695-4760-9de2-022771a67aa2"
      },
      "source": [
        "from google.colab import files\n",
        "from IPython.display import Image\n",
        "\n",
        "uploaded = files.upload()"
      ],
      "execution_count": null,
      "outputs": [
        {
          "output_type": "display_data",
          "data": {
            "text/html": [
              "\n",
              "     <input type=\"file\" id=\"files-70957e96-d76b-4afa-b4a5-353da103ed26\" name=\"files[]\" multiple disabled />\n",
              "     <output id=\"result-70957e96-d76b-4afa-b4a5-353da103ed26\">\n",
              "      Upload widget is only available when the cell has been executed in the\n",
              "      current browser session. Please rerun this cell to enable.\n",
              "      </output>\n",
              "      <script src=\"/nbextensions/google.colab/files.js\"></script> "
            ],
            "text/plain": [
              "<IPython.core.display.HTML object>"
            ]
          },
          "metadata": {
            "tags": []
          }
        },
        {
          "output_type": "stream",
          "text": [
            "Saving oscila.PNG to oscila.PNG\n"
          ],
          "name": "stdout"
        }
      ]
    },
    {
      "cell_type": "markdown",
      "metadata": {
        "id": "BRqOCrtSMXgg"
      },
      "source": [
        "<h1><center>UNIVERSIDAD DE MEDELLÍN</center></h1>\n",
        "<h1><center>FACULTAD DE INGENIERÍAS</center></h1>\n",
        "<h1><center>FÍSICA II</center></h1>\n",
        "<h1><center>PROYECTO DE AULA:</center></h1>\n",
        "<h1><center>OSCILADORES ARMÓNICOS ACOPLADOS</center></h1>\n",
        "<h3><center> Por: Daniela Barros Álvarez, Karen Gómez Lobo, Estiven Cano Urrego, Juan José Miranda Ruiz</center></h3>\n",
        "<h3><center> Profesor: Julián David Correa Abad</center></h3>\n",
        "\n",
        "\n",
        "---\n",
        "\n",
        "#INTRODUCCIÓN\n",
        "\n",
        "Cuando se habla de movimiento armónico simple, se hace referencia a todo movimiento periódico, y vibratorio idealizando que no existen fuerzas de fricción, y que es ocasionado por la acción de una fuerza recuperadora directamente proporcional a la posición de la partícula estudiada, y que se analiza en función del tiempo utilizando una función trigonométrica (seno o coseno). En este informe se estudiará el movimiento armónico simple a partir de la exposición de un  sistema de dos osciladores armónicos acoplados por un tercer resorte, con el objetivo de ilustrar, describir y desglosar el funcionamiento y comportamiento de las variables implicadas en este tipo de fenómenos oscilatorios, para generar un mejor entendimiento y manejo del tema por parte de los estudiantes, utilizando como herramienta principal Google Colab, simulando el funcionamiento del sistema y esquematizando la actuación de las variables involucradas. Para ello, se plantea el marco teórico del sistema a estudiar y las leyes que establecen una predicción de su comportamiento, procediendo así a la exposición de ecuaciones y modelos matemáticos implicados, para luego ejemplificar y comprobar la teoría por medio de una simulación práctica. \n",
        "\n",
        "---\n",
        "\n",
        "#OBJETIVOS\n",
        "\n",
        "##Objetivos Generales\n",
        "\n",
        "El objetivo principal de este proyecto, es realizar una investigación general sobre el tema estudiado y plantear un análisis descriptivo y matemático sobre el fenómeno ocurrido, incurriendo en la creación de conocimientos autodidactas y el interés de parte de los autores del informe, proyectando los conocimientos aprendidos con el método científico y fortaleciendo la habilidad de análisis profundo para abordar la resolución de problemas.\n",
        "\n",
        "##Objetivos Específicos\n",
        "\n",
        "* Identificar la utilidad y los entornos en los que se presenta este tipo de sistemas en la vida cotidiana.\n",
        "\n",
        "* Establecer una comparación entre los datos obtenidos a través de la simulación y los datos que teóricamente se calculan.\n",
        "\n",
        "* Analizar y comprender las posibles causas de error en un sistema masa resorte.\n",
        "\n",
        "---\n",
        "\n",
        "#MARCO TEÓRICO\n",
        "\n",
        "##¿Qué es un sistema masa-resorte? \n",
        "\n",
        "Un sistema masa-resorte, es un dispositivo conformado por una partícula que posee una cantidad definida de masa, unida a un a un operador elástico, en forma de espiral, capaz de almacenar energía y transformarla dependiendo la deformación que sufra al aplicársele una fuerza en una dirección determinada. Dicha fuerza no debe sobrepasar el límite de cedencia del resorte, dando lugar sólo a deformaciones plásticas en su adecuado funcionamiento. En un sistema masa-resorte ideal, se considera insignificante la fricción entre la masa y la superficie donde se encuentra establecido el sistema, o entre el sistema y el aire. Sin embargo, existen otras variables que definen el funcionamiento del sistema, como lo son la masa y la distancia que se desplaza cuando el resorte es elogando.$[1]$\n",
        "\n",
        "La *Ley de Hooke* establece que la elongación de un resorte es directamente proporcional a la magnitud de la fuerza que se le aplique, es decir, existe una relación lineal entre el esfuerzo y la deformación (dada por la constate de fuerza del resorte $k$), siempre que ésta no supere el límite de cedencia de dicho resorte.$[2]$\n",
        "\n",
        "$$F=K(X-X_{0})$$  \n",
        "<h5><center> Ecuación 1. Ley de Hooke[2]</center></h5>           \n",
        "\n",
        "\n",
        "Un resorte ideal ejerce una fuerza recuperadora con la que restaura su posición natural o de equilibrio después de la deformación, esta fuerza posee la misma magnitud que la fuerza con la que se produce la deformación pero en la dirección opuesta al movimiento. La fuerza recuperadora es la responsable de que exista un movimiento vibratorio en el sistema masa-resorte.\n",
        "\n",
        "\n",
        "\n",
        "\n",
        "\n",
        "\n",
        "\n",
        "\n",
        "\n",
        "\n",
        "\n",
        "\n",
        "\n",
        "\n",
        "\n",
        "\n",
        "\n",
        "\n",
        "\n",
        "\n",
        "\n",
        "\n",
        "\n",
        "\n",
        "\n",
        "\n",
        "\n",
        "\n"
      ]
    },
    {
      "cell_type": "code",
      "metadata": {
        "id": "0FJTxKXgc1oE",
        "colab": {
          "base_uri": "https://localhost:8080/",
          "height": 217
        },
        "outputId": "60bc515a-2f43-4457-e8a9-e24d9400def5"
      },
      "source": [
        "#Figura 1. Esquema de un sistema masa-resorte. [2]\n",
        "Image('Hooke.PNG', width = 400 , height = 200)"
      ],
      "execution_count": null,
      "outputs": [
        {
          "output_type": "execute_result",
          "data": {
            "image/png": "[encoded data removed]",
            "text/plain": [
              "<IPython.core.display.Image object>"
            ]
          },
          "metadata": {
            "tags": [],
            "image/png": {
              "width": 400,
              "height": 200
            }
          },
          "execution_count": 6
        }
      ]
    },
    {
      "cell_type": "markdown",
      "metadata": {
        "id": "YcOlKmxwc2Jy"
      },
      "source": [
        "##Movimiento Armónico Simple (MAS)\n",
        "\n",
        "Un M.A.S es un movimiento periódico, donde se cumple que un cuerpo oscila alrededor de un punto de equilibrio, desarrollando vibraciones idénticas en un tiempo determinado en el que vuelve a tener las mismas magnitudes cinemáticas y dinámicas. Además, se cumple la Ley de Hooke.\n",
        "\n",
        "A la partícula o sistema que funcionan a través de un movimiento armónico simple, se les denomina ***oscilador armónico***[2].\n",
        "\n",
        "El sistema masa-resorte cumple con las anteriores condiciones, por lo tanto, es considerado un oscilador armónico, en el cual se describe la posición de la partícula mediante la siguiente función sinusoidal:\n",
        "\n",
        "$$X= A \\cos (\\omega \\cdot t + \\phi_{0})$$\n",
        "\n",
        "<h5><center> Ecuación 2. Posición de la partícula en\n",
        "un instante de tiempo.[2]\n",
        "</center></h5>      \n",
        "\n",
        "Donde:\n",
        "\n",
        "* $X$: ***Elongación***: Es la distancia a la cual se encuentra el cuerpo desde la posición de equilibrio.\n",
        "\n",
        "* $A$: ***Amplitud***: Elongación máxima del resorte **[m]**\n",
        "\n",
        "* $\\omega$: ***Frecuencia angular***: Representa la velocidad de cambio de la fase del movimiento. Se trata del número de periodos comprendidos en $2\\cdot\\pi\\cdot segundos$. **[rad/s]**\n",
        "\n",
        "Esta definida como: \n",
        "$$\\omega= \\frac{2\\pi}{T} = 2\\pi f$$\n",
        "\n",
        "* $T$: Es el periodo, el tiempo que tarda una oscilación completo.\n",
        "\n",
        "* *$f$*: Es la frecuencia y es el número de oscilaciones en un segundo.\n",
        "\n",
        "* $t$: Instante de tiempo.\n",
        "\n",
        "* $\\phi_{0}$: ***Fase inicial***: Es el ángulo que representa el estado inicial de vibración, es decir, la elongación $x$ del cuerpo en el instante $t = 0$. **[rad]**\n",
        "\n",
        "La velocidad con la que se presenta el movimiento esta definica como la derivada de la posición, así:\n",
        "\n",
        "$$V = \\frac{dx}{dt} = - A \\omega \\cdot \\sin(\\omega \\cdot t + \\phi_{0})$$\n",
        "\n",
        "<h5><center> Ecuación 3. Velocidad del sistema.[2]\n",
        "</center></h5>  \n",
        "\n",
        "La aceleración del sistema esta dada por la segunda derivada de la posición o la primera derivada de la velocidad:\n",
        "\n",
        "$$ a = -Aw^2 \\cdot \\cos(\\omega \\cdot t + \\phi_{0})$$\n",
        "\n",
        "<h5><center> Ecuación 4. Aceleración sistema.[2]\n",
        "</center></h5>  \n",
        "\n",
        "##Energía en un sistema masa-resorte\n",
        "\n",
        "La energía total presente en un sistema masa-resorte, esta definida como energía mecánica, que, a su vez, es el resultado de la sumatoria de la energía potencial y la energía cinética. En lo que a energía potencial respecta, se puede decir que, en este sistema, sólo se tendrá en cuenta la energía potencial elástica del resorte, dado que, eligiendo un marco de referencia con origen en el punto de equilibrio, la altura tendrá un valor de cero, por lo que se anularía la energía potencial gravitacional.**[2]**\n",
        "\n",
        "La energía en un sistema masa-resorte se presenta en forma de trabajo, ya que, en su normal funcionamiento, la elongación del resorte amerita efectuar una fuerza F, para llevar a cabo un desplazamiento $x$, por ello, el trabajo efectuado en dicho sistema esta definido como la integral de la fuerza efectuada en el eje del desplazamiento (eje $x$), por un diferencial de longitud, definida desde el punto de equilibrio ($x_{1}$), hasta una máxima elongación $x_{2}$.\n",
        "\n",
        "$$W = \\int_{x1}^{x2} F_{x}dx = \\int_{x1}^{x2} kxdx = \\frac{1}{2} kx^2_{2} - \\frac{1}{2} kx^2_1$$\n",
        "\n",
        "<h5><center> Ecuación 5. Trabajo efectuado para estirar un resorte una longitud x. [2]\n",
        "</center></h5>  \n",
        "\n",
        "\n"
      ]
    },
    {
      "cell_type": "code",
      "metadata": {
        "id": "ndK9bpFJfPr0",
        "colab": {
          "base_uri": "https://localhost:8080/",
          "height": 217
        },
        "outputId": "6821e4e2-0694-41ad-f793-579d0bc366ff"
      },
      "source": [
        "#Figura 2. Trabajo de resorte. [2]\n",
        "Image('Trabajo resorte.PNG', width = 200 , height = 200)"
      ],
      "execution_count": null,
      "outputs": [
        {
          "output_type": "execute_result",
          "data": {
            "image/png": "[encoded data removed]",
            "text/plain": [
              "<IPython.core.display.Image object>"
            ]
          },
          "metadata": {
            "tags": [],
            "image/png": {
              "width": 200,
              "height": 200
            }
          },
          "execution_count": 12
        }
      ]
    },
    {
      "cell_type": "markdown",
      "metadata": {
        "id": "P8_D_WHzfP-a"
      },
      "source": [
        "Haciendo una transicion de la energia en forma de trabajo a términos de energia potencial, se tine que:\n",
        "\n",
        "$$E_{el} = \\frac{1}{2}kx^2 ; W = \\frac{1}{2}x^2_{2} - \\frac{1}{2}kx^2_{1} → W = \\Delta E_{el}$$\n",
        "\n",
        "<h5><center> Ecuación 6. Energía potencial elástica en términos de trabajo. [2]\n",
        "</center></h5>  \n",
        "\n",
        "En cuanto a la energía cinética del sistema, que es el trabajo necesario para acelerar un cuerpo de una masa determinada desde un estado de reposo hasta alcanzar una velocidad determinada, se encuentra definida como:\n",
        "\n",
        "$$E_{c} = \\frac{1}{2}mV^2$$\n",
        "\n",
        "<h5><center>Ecuación 7. Energía cinética del sistema masa-resorte. [2]\n",
        "</center></h5>  \n",
        "\n",
        "Donde $m$ hace referencia a la masa de la partícula y $V$ a la velocidad con la que se desplaza el sistema.\n",
        "\n",
        "La energía total del sistema, será entonces, el resultado de la suma de la energía potencial y la energía cinética del sistema durante su oscilación, como se muestra en la siguiente ecuación: \n",
        "\n",
        "$$E_{T} = E_{el} + E_{c} = \\frac{1}{2}kx^2 + \\frac{1}{2}mV^2$$\n",
        "\n",
        "<h5><center>Ecuación 8. Energía total del sistema masa-resorte. [2]\n",
        "</center></h5>  \n",
        "\n",
        "#OSCILADORES ARMÓNICOS ACOPLADOS\n",
        "\n",
        "Dado que este proyecto tiene como objetivo estudiar un sistema compuesto por dos osciladores armónicos acoplados por un tercer resorte, se procede entonces, a redefinir tópicos y ecuaciones, ya que, cuando se acoplan dos o más osciladores, el sistema presenta nuevas magnitudes en su oscilación, diferentes a las pertenecientes a sus vibraciones individuales. \n",
        "\n",
        "De esta manera, se define el sistema a estudiar, como un conjunto de osciladores acoplados compuesto por dos resortes de constante elástica k, y dos partículas con masas m, acoplados por un tercer resorte de constante elástica kc, de forma que una fuerza aplicada a uno de los componentes del sistema genera un movimiento que se transmite a todo el sistema, transportando así energía a través de todo el sistema. El sistema esta configurado de tal manera, que los extremos de los dos resortes exteriores, se encuentran suspendidos en el espacio, fijados a dos superficies verticales, en donde, suponiendo un sistema ideal, se puede decir que la fuerza de la gravedad no influye sobre dicho sistema. El sistema es ilustrado a continuación en la **Figura 3**.\n",
        "\n",
        "\n",
        "\n"
      ]
    },
    {
      "cell_type": "code",
      "metadata": {
        "id": "KbreHxRLhCsR",
        "colab": {
          "base_uri": "https://localhost:8080/",
          "height": 217
        },
        "outputId": "a269c44c-948d-471c-e95f-0b0d057026a0"
      },
      "source": [
        "#Figura 3. Trabajo de resorte. [2]\n",
        "Image('oscila.PNG', width = 800 , height = 200)"
      ],
      "execution_count": null,
      "outputs": [
        {
          "output_type": "execute_result",
          "data": {
            "image/png": "[encoded data removed]",
            "text/plain": [
              "<IPython.core.display.Image object>"
            ]
          },
          "metadata": {
            "tags": [],
            "image/png": {
              "width": 800,
              "height": 200
            }
          },
          "execution_count": 16
        }
      ]
    },
    {
      "cell_type": "code",
      "metadata": {
        "id": "gKH_REDC3Lkb"
      },
      "source": [
        ""
      ],
      "execution_count": null,
      "outputs": []
    },
    {
      "cell_type": "markdown",
      "metadata": {
        "id": "8g0rZaDghDVh"
      },
      "source": [
        "\n",
        "##Ecuaciones del Movimiento\n",
        "Para adaptar las ecuaciones que definen el M.A.S. a este sistema, es preciso definir la equivalencia de cada magnitud involucrada en el comportamiento del oscilador, de esta manera, la ley de Hooke queda redefinida como:\n",
        "\n",
        "$$F = kx_{i} + k_{c} (x_{2} - x_{1})$$\n",
        "\n",
        "<h5><center>Ecuación 9. Ley de Hook para osciladores acoplados. [3]\n",
        "</center></h5>  \n",
        "\n",
        "* $X_1$ y $X_2$ son las elongaciones de los resortes, es decir, representan las posiciones de las partículas 1 y 2, que oscila en función del tiempo.**[m]**\n",
        "\n",
        "* $k$ es la constante elástica de los resortes: Se asume que son iguales para los dos resortes.**[N/m]**\n",
        "\n",
        "\n",
        "\n",
        "Teniendo en cuenta que, la segunda Ley de Newton establece que en un sistema de masa constante la aceleración de con que se transporta la partícula estudiada es proporcional a la magnitud de la fuerza que se ejerce para provocar dicha vibración.  \n",
        "\n",
        "$$F = m \\cdot a$$\n",
        "\n",
        "<h5><center>Ecuación 10. Segunda Ley de Newton. [3]\n",
        "</center></h5>  \n",
        "\n",
        "Si se aplica la ley de Newton a cada una de las partículas, y se considera la aceleración en términos de la posición, se obtienen entonces ecuaciones del movimiento de las partículas en forma de derivada, así:\n",
        "\n",
        "\n",
        "$$m\\frac{d^2 x_{1}}{dt^2} = kx_{1} + k_{c}(x_{2}- x_{1})$$\n",
        "<h5><center>Ecuación 11. Ecuación de movimiento de la partícula 1.[3]\n",
        "</center></h5>  \n",
        "\n",
        "$$m\\frac{d^2 x_{2}}{dt^2} = kx_{2} + k_{c}(x_{2}- x_{1})$$\n",
        "<h5><center>Ecuación 12. Ecuación de movimiento de la partícula 2.[3]\n",
        "</center></h5>  \n",
        "\n",
        "\n",
        "Operando las anteriores ecuaciones, obtenemos entonces, dos nuevas ecuaciones que reflejan el movimiento armónico simple de los osciladores acoplados.\n",
        "\n",
        "$$\\frac{d^2(x_{1}+x_{2})}{dt^2}+ \\frac{k}{m}(x_{1}+ x_{2}) = 0$$\n",
        "\n",
        "$$\\frac{d^2(x_{1}+x_{2})}{dt^2}+ \\frac{k+2k_{c}}{m}(x_{1}+ x_{2}) = 0$$\n",
        "\n",
        "<h5><center>Ecuación 13.\n",
        "</center></h5>  \n",
        "\n",
        "Se puede despejar entonces las frecuencias angulares de cada oscilador de la siguiente manera:\n",
        "\n",
        "\n",
        "$$w^2_{1} = \\frac{k}{m}$$\n",
        "\n",
        "<h5><center>Ecuación 14. Frecuencia angular de la partícula 1.[3]\n",
        "</center></h5>  \n",
        "\n",
        "$$w^2_{2}= \\frac{k + 2k_{c}}{m}$$\n",
        "\n",
        "<h5><center>Ecuación 15. Frecuencia angular de la partícula 2.[3]\n",
        "</center></h5>  \n",
        "\n",
        "Para definir la posición de las partículas 1 y 2 en un tiempo establecido, durante el proceso de vibración de los osciladores, se tiene en cuenta la **ecuación 2**, que define la posición de una partícula perteneciente a un fenómeno de M.A.S, y se adapta al formato acoplado de los osciladores, obteniendo así las siguientes ecuaciones, que proyectan que la posición de cada partícula en un tiempo t están dadas por:\n",
        "\n",
        "\n",
        "$$X_{1} = \\frac{A_{1}\\cos(\\omega_{1}\\cdot t + \\phi_{01})-A_{2}\\cos(\\omega_{2}\\cdot t + \\phi_{02}) }{2}$$\n",
        "<h5><center>Ecuación 16. Posición de la partícula 1 en un tiempo t. [3]\n",
        "</center></h5>  \n",
        "\n",
        "$$X_{2} = \\frac{A_{1}\\cos(\\omega_{1}\\cdot t + \\phi_{01})+A_{2}\\cos(\\omega_{2}\\cdot t + \\phi_{02}) }{2}$$\n",
        "<h5><center>Ecuación 17. Posición de la partícula 2 en un tiempo t. [3]\n",
        "</center></h5>  \n",
        "\n",
        "Donde las amplitudes $A1$ y $A2$ son, respectivamente: \n",
        "\n",
        "\n",
        "$$A_{1} = X_{1} + X_{2}$$\n",
        "<h5><center>Ecuación 18. Amplitud en el resorte 1. [3]\n",
        "</center></h5>  \n",
        "\n",
        "$$A_{2} = X_{1} - X_{2}$$\n",
        "<h5><center>Ecuación 19. Amplitud en el resorte 2. [3]\n",
        "</center></h5>  \n",
        "\n",
        "\n",
        "##Condiciones Iniciales\n",
        "\n",
        "Cuando el tiempo de estudio es cero y el sistema se encuentra en reposo, por lo que su velocidad también presenta una magnitud de cero, la posición de las partículas que con forman el sistema se puede calcular a través de las siguientes ecuaciones:\n",
        "\n",
        "Ecuaciones 20 y 21\n",
        "\n",
        "$$X_{1} = \\frac{x_{01} + x_{02}}{2} \\cos(\\omega_{1} t) + \\frac{x_{01} + x_{02}}{2} \\cos(\\omega_{2} t $$\n",
        "\n",
        "<h5><center>Ecuación 20. Posición de la partícula 1 en un t=0. [3]\n",
        "</center></h5>  \n",
        "\n",
        "$$X_{2} = \\frac{x_{01} + x_{02}}{2} \\cos(\\omega_{1} t) - \\frac{x_{01} - x_{02}}{2} \\cos(\\omega_{2} t $$\n",
        "\n",
        "<h5><center>Ecuación 21. Posición de la partícula 2 en un t=0. [3]\n",
        "</center></h5>  \n",
        "\n",
        "##Energía en un sistema de osciladores acoplados\n",
        "\n",
        "El intercambio total de energía en el sistema, se calcula sumando las energías cinéticas y potencial elástica de ambas partículas, como ilustran las siguientes ecuaciones para cada caso: \n",
        "\n",
        "Ecuaciones 22 y 23\n",
        "$$E_{T} = Ec + E_{el} = \\frac{1}{2}mv_{1}^2 + \\frac{1}{2}mv_{2}^2 + \\frac{1}{2}kx_{1}^2 + \\frac{1}{2}kx_{2}^2 + \\frac{1}{2}k_{c}(x_{2}- x_{1})^2$$\n",
        "\n",
        "\n",
        "<h5><center>Ecuación 22.\n",
        "</center></h5>  \n",
        "\n",
        "$$E_{T} =  \\frac{1}{2}mv_{1}^2 + \\frac{1}{2}(k + k_{c})x_{1}^2 + \\frac{1}{2}mv_{2}^2 + \\frac{1}{2}(k + k_{c})x_{2}^2 - k_{c}x_{2}x_{1}$$\n",
        "<h5><center>Ecuación 23.\n",
        "</center></h5>  \n",
        "\n",
        "---\n",
        "\n",
        "##BIBLIOGRAFÍA \n",
        "\n",
        "**[1]** Sistema masa-resorte. Disponible en: https://linacastaita96.wordpress.com/fisica-2013/segundo-bimestre/movimiento-armonico-simple/sistema-masa-resorte/\n",
        "\n",
        "**[2]** Hugh D. Young - Roger A. Freedman. Física Universitaria volumen 1. Decimosegunda edición. Pearson Educación, México, 2009.\n",
        "\n",
        "**[3]** Dos osciladores acoplados. Disponible en: http://www.sc.ehu.es/sbweb/fisica/oscilaciones/acoplados/acoplados.html#Experiencia%20en%20el%20aula\n",
        "ÚTIL\n",
        "http://www.sceu.frba.utn.edu.ar/dav/archivo/homovidens/fatela/proyecto_final/5pag3.htm"
      ]
    }
  ]
}