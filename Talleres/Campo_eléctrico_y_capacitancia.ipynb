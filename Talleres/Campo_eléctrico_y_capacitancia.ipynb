{
  "nbformat": 4,
  "nbformat_minor": 0,
  "metadata": {
    "colab": {
      "name": "Campo eléctrico y capacitancia.ipynb",
      "provenance": [],
      "collapsed_sections": []
    },
    "kernelspec": {
      "name": "python3",
      "display_name": "Python 3"
    }
  },
  "cells": [
    {
      "cell_type": "code",
      "metadata": {
        "id": "JJ6FCvJ54h0E",
        "colab": {
          "resources": {
            "http://localhost:8080/nbextensions/google.colab/files.js": {
              "data": "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",
              "ok": true,
              "headers": [
                [
                  "content-type",
                  "application/javascript"
                ]
              ],
              "status": 200,
              "status_text": ""
            }
          },
          "base_uri": "https://localhost:8080/",
          "height": 38
        },
        "outputId": "f1073d5c-2da4-432e-af2b-8cebd985db3e"
      },
      "source": [
        "from google.colab import files\n",
        "from IPython.display import Image\n",
        "\n",
        "uploaded = files.upload()"
      ],
      "execution_count": 21,
      "outputs": [
        {
          "output_type": "display_data",
          "data": {
            "text/html": [
              "\n",
              "     <input type=\"file\" id=\"files-66772ba4-38df-4233-85f2-1d7ec165f2c4\" name=\"files[]\" multiple disabled\n",
              "        style=\"border:none\" />\n",
              "     <output id=\"result-66772ba4-38df-4233-85f2-1d7ec165f2c4\">\n",
              "      Upload widget is only available when the cell has been executed in the\n",
              "      current browser session. Please rerun this cell to enable.\n",
              "      </output>\n",
              "      <script src=\"/nbextensions/google.colab/files.js\"></script> "
            ],
            "text/plain": [
              "<IPython.core.display.HTML object>"
            ]
          },
          "metadata": {
            "tags": []
          }
        }
      ]
    },
    {
      "cell_type": "markdown",
      "metadata": {
        "id": "hn4rzGee1-ej"
      },
      "source": [
        "#Taller virtual 2 - Campo eléctrico y capacitancia\n",
        "\n",
        "##Estudiante \n",
        "- Estiven Cano Urrego\n",
        "\n",
        "##Profesor\n",
        "- Julián David Correa Abad\n",
        "\n",
        "---\n",
        "El taller tendrá un orden de Solución/Respuesta. \n",
        "---\n",
        "#Preguntas\n",
        "\n",
        "1) Dos cilindros muy largos de radio R portan una\n",
        "densidad superficial de carga uniforme σ están en los\n",
        "vértices de un cuadrado de lado 2R como muestra la\n",
        "figura. Determine el campo eléctrico (magnitud y dirección )\n",
        "en cada uno de los vértices del cuadrado. ¿Cuánto vale el\n",
        "campo en el punto medio de la linea que une los dos\n",
        "centros de los cilindros?, Si se cambia el signo de la\n",
        "densidad de carga de uno de los cilindros ¿Cómo cambia el\n",
        "campo en este punto?\n",
        "\n"
      ]
    },
    {
      "cell_type": "code",
      "metadata": {
        "id": "KoY41o-y15G0",
        "colab": {
          "base_uri": "https://localhost:8080/",
          "height": 317
        },
        "outputId": "1e8ee6fc-8c6c-41d3-cb6d-059dcd771cd8"
      },
      "source": [
        "Image('Punto1.PNG',width = 550,  height = 300)"
      ],
      "execution_count": 27,
      "outputs": [
        {
          "output_type": "execute_result",
          "data": {
            "image/png": "Punto1.PNG",
            "text/plain": [
              "<IPython.core.display.Image object>"
            ]
          },
          "metadata": {
            "tags": [],
            "image/png": {
              "width": 550,
              "height": 300
            }
          },
          "execution_count": 27
        }
      ]
    },
    {
      "cell_type": "markdown",
      "metadata": {
        "id": "gpPfAFQEXeDc"
      },
      "source": [
        "Lo primero que debemos hacer es situar los vertices en los cuales hallaremos el campo eléctrico generado por estos dos cilindros. \n",
        "Conocemos los lados del cuadrado $2R$ y el radio del cilindro $R$. \n",
        "\n",
        "Por el principio de superposición podemos tomar estos cilindros aparte y luego realizar la suma del campo eléctrico de cada uno para obtener el campo eléctrico generado sobre un punto $p$. \n",
        "\n",
        "Definimos un eje de coordenadas en el centro del cuadrado. \n",
        "\n"
      ]
    },
    {
      "cell_type": "code",
      "metadata": {
        "id": "80hjV06OfahJ",
        "colab": {
          "base_uri": "https://localhost:8080/",
          "height": 317
        },
        "outputId": "bfb80012-3817-4118-c7cf-019924d9454a"
      },
      "source": [
        "Image('Punto1(gráfica) (1).png',width = 550,  height = 300)"
      ],
      "execution_count": 24,
      "outputs": [
        {
          "output_type": "execute_result",
          "data": {
            "image/png": "Punto1(gráfica) (1).png",
            "text/plain": [
              "<IPython.core.display.Image object>"
            ]
          },
          "metadata": {
            "tags": [],
            "image/png": {
              "width": 550,
              "height": 300
            }
          },
          "execution_count": 24
        }
      ]
    },
    {
      "cell_type": "markdown",
      "metadata": {
        "id": "039JbdmigCip"
      },
      "source": [
        "Debemos calcular el campo eléctrico en los vertices, los cuales se han enumerado para un mayor orden en la solución.\n",
        "\n",
        "- El vertice $1$ se encuentra en el centro del cilindro ,como la distribución de carga es superficial, entonces la carga encerrada por la gaussiana es $0$,\n",
        "y como el otro cilindro cargado que genera el campo está fuera de la superficie, la cantidad de líneas de campo que entran en la superficie del cilindro analizado son las mismas que las que salen, por lo tanto el flujo total a través de la superficie es $0$. \n",
        "\n",
        "$$\\phi_{1} = 0$$\n",
        "\n",
        "- Tenemos entonces que $\\phi_{1} = \\oint E\\cdot dS$\n",
        "\n",
        "$$E \\oint dS = 0$$\n",
        "$$E\\cdot S = 0$$\n",
        "$$E_{1} = 0$$\n",
        "\n",
        "Según lo anterior el cilindro situado en el vertice $4$ tendrá el mismo resultado, ya que es un cilindro igual que el anterior y en este caso, la posición no afecta el campo generado en dicho punto. \n",
        "\n",
        "$$E_{4} = 0$$\n",
        "\n",
        "En el vertice $2$ tendremos una incidencia en el campo eléctrico resultante de la suma del campo eléctrico generado por cada cilindro. \n",
        "\n",
        "- Cilindro $1$:\n",
        "Definimos la superficie gaussiana\n",
        "\n",
        "\n"
      ]
    },
    {
      "cell_type": "code",
      "metadata": {
        "id": "IF5bAJ7WiJvM",
        "colab": {
          "base_uri": "https://localhost:8080/",
          "height": 317
        },
        "outputId": "5ecf4e5f-85c9-4fd4-e2da-fd57a847b5b4"
      },
      "source": [
        "Image('cilindro1.png',width = 550,  height = 300)"
      ],
      "execution_count": 25,
      "outputs": [
        {
          "output_type": "execute_result",
          "data": {
            "image/png": "cilindro1.png",
            "text/plain": [
              "<IPython.core.display.Image object>"
            ]
          },
          "metadata": {
            "tags": [],
            "image/png": {
              "width": 550,
              "height": 300
            }
          },
          "execution_count": 25
        }
      ]
    },
    {
      "cell_type": "markdown",
      "metadata": {
        "id": "u_AoTJsNnRPK"
      },
      "source": [
        "Región interna $r < R$\n",
        "\n",
        "Región externa $r > R$\n",
        "\n",
        "$$\\oint \\vec{E} \\cdot d\\vec{S} = \\frac{Q}{\\epsilon_{0}} \\tag{1}$$ \n",
        "\n",
        "Nuestra carga externa está dada por $Q = \\sigma 2 \\pi RL $\n",
        "\n",
        "Reemplazando en $(1)$ tenemos que \n",
        "\n",
        "$$\\oint \\vec{E} \\cdot d\\vec{S} = \\frac{\\sigma 2 \\pi RL}{\\epsilon_{0}} \\tag{2}$$\n",
        "\n",
        "Integrando obtenemos lo siguiente\n",
        "$$\\oint \\vec{E} \\cdot d\\vec{S} = E2\\pi rL$$\n",
        "\n",
        "Reemplazando en (2) \n",
        "\n",
        "$$E2\\pi rL =  \\frac{\\sigma 2 \\pi RL}{\\epsilon_{0}} $$\n",
        "\n",
        "Realizando las cancelaciones respectivas \n",
        "\n",
        "$$E = \\frac{\\sigma R}{\\epsilon_{0} r}$$\n",
        "\n",
        "Según nuestro enunciado $r = 2R$\n",
        "\n",
        "\n",
        "Tenemos entonces, con la dirección del vector\n",
        "$$E = \\frac{\\sigma}{2\\epsilon_{0}} (2R\\vec{i}) $$\n",
        "- Cilindro $2$:  \n",
        "\n",
        "\n",
        "\n",
        "\n"
      ]
    },
    {
      "cell_type": "code",
      "metadata": {
        "id": "P1ej8eSUuCiQ",
        "colab": {
          "base_uri": "https://localhost:8080/",
          "height": 317
        },
        "outputId": "20099fd5-848d-42bb-fa17-fc8f4b5eff97"
      },
      "source": [
        "Image('cilindro2.png',width = 550,  height = 300)"
      ],
      "execution_count": null,
      "outputs": [
        {
          "output_type": "execute_result",
          "data": {
            "image/png": "cilindro2.png",
            "text/plain": [
              "<IPython.core.display.Image object>"
            ]
          },
          "metadata": {
            "tags": [],
            "image/png": {
              "width": 550,
              "height": 300
            }
          },
          "execution_count": 9
        }
      ]
    },
    {
      "cell_type": "markdown",
      "metadata": {
        "id": "GLVKHognuLvW"
      },
      "source": [
        "Tenemos el mismo cilindro a la misma distancia, por consiguiente, lo único que cambia es el vector de dirección. \n",
        "\n",
        "Tenemos entonces, con la dirección del vector\n",
        "$$E = \\frac{\\sigma}{2\\epsilon_{0}} (2R\\vec{j}) $$\n",
        "\n",
        "Realizando la suma de ambos campos eléctricos tenemos que \n",
        "$$E_{total 3} = \\frac{\\sigma}{2\\epsilon_{0}} (2R\\vec{i}) +  \\frac{\\sigma}{2\\epsilon_{0}} (2R\\vec{j})$$\n",
        "\n",
        "$$E_{total 3} = \\frac{\\sigma}{2\\epsilon_{0}} (2R\\vec{i} + 2R\\vec{j})$$\n",
        "\n",
        "Para el vertice $4$ se realiza el mismo procedimiento y se obtiene el mismo resultado, cambiando únicamente el vector de dirección. \n",
        "\n",
        "Tenemos entonces, con la dirección del vector\n",
        "$$E = \\frac{\\sigma}{2\\epsilon_{0}} (-2R\\vec{i})$$\n",
        "$$E = \\frac{\\sigma}{2\\epsilon_{0}} (-2R\\vec{j})$$\n",
        "\n",
        "Realizando la suma de ambos campos eléctricos tenemos que \n",
        "$$E_{total4} = \\frac{\\sigma}{2\\epsilon_{0}} (-2R\\vec{j}) +  \\frac{\\sigma}{2\\epsilon_{0}} (-2R\\vec{j})$$\n",
        "\n",
        "$$E_{total 4} = \\frac{\\sigma}{2\\epsilon_{0}} (-2R\\vec{i} - 2R\\vec{j})$$\n",
        "\n",
        "En el caso del punto central, calculamos la distancia con el teorema de pitágoras. \n",
        "\n",
        "$$D = \\sqrt{4R^2 + 4R^2}$$\n",
        "$$D = \\sqrt{8R^2}$$\n",
        "$$D = 2R\\sqrt{2}$$\n",
        "\n",
        "El punto se encuentra en la mitad de la diagonal\n",
        "\n",
        "$$\\frac{D}{2} = d$$\n",
        "\n",
        "$$d = R\\sqrt{2}$$\n",
        "\n",
        "Tenemos entonces que el campo electrico generado sería \n",
        "\n",
        "$$E = \\frac{\\sigma R}{\\epsilon_{0}R\\sqrt{2}}$$\n",
        "\n",
        "$$E = \\frac{\\sigma }{\\epsilon_{0}\\sqrt{2}}$$\n",
        "\n",
        "Con sus respectivas componentes, para el cilindro inferior \n",
        "\n",
        "\n",
        "$$E = \\frac{\\sigma }{\\epsilon_{0}\\sqrt{2}}(-R\\vec{i} + R\\vec{j})$$\n",
        "\n",
        "Para el cilindro superior tenemos que \n",
        "\n",
        "\n",
        "$$E = \\frac{\\sigma }{\\epsilon_{0}\\sqrt{2}}(R\\vec{i} - R\\vec{j})$$\n",
        "\n",
        "$$E_{total} = 0$$\n",
        "\n",
        "- Si se cambia el signo de la densidad de carga tendriamos lo siguiente\n",
        "\n",
        "$$E_{total} = \\frac{2\\sigma }{\\epsilon_{0}\\sqrt{2}}(R\\vec{i} - R\\vec{j})$$\n",
        "\n",
        "\n",
        "---"
      ]
    },
    {
      "cell_type": "markdown",
      "metadata": {
        "id": "MK2NhNkmvLuH"
      },
      "source": [
        "2) Formamos un nuevo capacitor por una varilla conductora muy\n",
        "larga de longitud L colocada en el eje de un cascaron cilíndrico\n",
        "conductor del mismo largo L. Determine la capacitación de este\n",
        "dispositivo. Si se conecta el capacitor a una diferencia de potencial\n",
        "Δ V ¿Cuanta energía puede almacenar este capacitor?. En el\n",
        "esquema se observa una vista frontal del dispositivo"
      ]
    },
    {
      "cell_type": "code",
      "metadata": {
        "id": "ou-_A4DSvdVf",
        "colab": {
          "base_uri": "https://localhost:8080/",
          "height": 317
        },
        "outputId": "6b26fb61-450b-4ed3-c6f9-5f0e34860597"
      },
      "source": [
        "Image('Punto2.PNG',width = 300,  height = 300)"
      ],
      "execution_count": null,
      "outputs": [
        {
          "output_type": "execute_result",
          "data": {
            "image/png": "Punto2.PNG",
            "text/plain": [
              "<IPython.core.display.Image object>"
            ]
          },
          "metadata": {
            "tags": [],
            "image/png": {
              "width": 300,
              "height": 300
            }
          },
          "execution_count": 10
        }
      ]
    },
    {
      "cell_type": "markdown",
      "metadata": {
        "id": "cH326vU-0bs2"
      },
      "source": [
        "Veamos el capacitor desde otra perspectiva para comprender su forma y realizar el análisis. \n"
      ]
    },
    {
      "cell_type": "code",
      "metadata": {
        "id": "dxmlq1nV0RWZ",
        "colab": {
          "base_uri": "https://localhost:8080/",
          "height": 317
        },
        "outputId": "79d46b15-6fb5-4698-f225-02bff3f65b70"
      },
      "source": [
        "Image('Punto2VistaExplicacion.png',width = 500,  height = 300)"
      ],
      "execution_count": null,
      "outputs": [
        {
          "output_type": "execute_result",
          "data": {
            "image/png": "Punto2VistaExplicacion.png",
            "text/plain": [
              "<IPython.core.display.Image object>"
            ]
          },
          "metadata": {
            "tags": [],
            "image/png": {
              "width": 500,
              "height": 300
            }
          },
          "execution_count": 11
        }
      ]
    },
    {
      "cell_type": "markdown",
      "metadata": {
        "id": "vJSdzM8k0rAt"
      },
      "source": [
        "Definimos los datos necesarios para resolver este problema. \n",
        "\n",
        "- $a$ = Radio de la varilla\n",
        "- $b$ = Radio del cilindro\n",
        "- $r$ = radio de la superficie Gaussiana\n",
        "- La varilla posee carga positiva y el cilindro carga negativa\n",
        "- $dA$ = diferencial de area\n",
        "- $dl$ = Trayectoria de integración (de - a +)\n",
        "- $dr$ = diferencial de r\n",
        "\n",
        "Primero sabemos que la capacitancia es $C = |\\frac{q}{v}|$\n",
        "\n",
        "y el voltaje $V = - \\int_{-}^{+} \\vec{E} \\cdot d\\vec{l} $\n",
        "\n",
        "Conocemos tambien que $\\oint \\vec{E} \\cdot d\\vec{A} = \\frac{q}{\\epsilon_{0}}$\n",
        "\n",
        "Como el campo solo atraviesa la superficie del cilindro tendriamos que \n",
        "\n",
        "$$E(2\\pi rL) = \\frac{q}{\\epsilon_{0}}$$\n",
        "\n",
        "Despejando el campo \n",
        "\n",
        "$$E = \\frac{q}{2 \\pi \\epsilon_{0}L}$$\n",
        "\n",
        "Ahora hallemos el voltaje \n",
        "\n",
        "$$V =- \\int_{-}^{+} \\vec{E} \\cdot d\\vec{l} $$\n",
        "\n",
        "Como vamos de menos a mas, en este caso tendremos \n",
        "\n",
        "$$V = \\int_{-}^{+} \\vec{E} \\cdot d\\vec{l}$$\n",
        "\n",
        "Ya que $dr$ va en dirección contraria a d$l$ podemos expresar la igualdad como $$dl = -dr$$\n",
        "\n",
        "con lo que tendriamos entonces \n",
        "\n",
        "$$V =- \\int_{r=b}^{r=a} E dr$$\n",
        "\n",
        "Sacamos el campo de la integral y reemplazamos su valor\n",
        "\n",
        "$$V = -\\frac{q}{2\\pi\\epsilon_{0}L}\\int_{b}^{a} \\frac{dr}{r}$$\n",
        " Resolviendo la integral tenemos que \n",
        "\n",
        "$$V = -\\frac{q}{2\\pi\\epsilon_{0}L}[ln(a)- ln(b)]$$\n",
        "\n",
        "Teniendo en cuenta el signo negativo y aplicando propiedad de los logaritmos \n",
        "\n",
        "$$V = \\frac{q}{2\\pi\\epsilon_{0}L} ln(\\frac{b}{a})$$\n",
        "\n",
        "Con esto podemos definir la capacitancia. \n",
        "\n",
        "$$C = \\frac{2\\pi\\epsilon_{0}L}{ln(\\frac{b}{a})}$$\n",
        "\n",
        "La energia almacenada en el capacitor está dada por \n",
        "\n",
        "$$U = \\frac{1}{2} CV^2$$\n",
        "\n",
        "Reemplazando \n",
        "\n",
        "$$U = \\frac{1}{2} (\\frac{2\\pi\\epsilon_{0}L}{ln(\\frac{b}{a})})(\\frac{q}{2\\pi\\epsilon_{0}L} ln(\\frac{b}{a}))^2$$\n",
        "\n",
        "$$U =\\frac{1}{2} (\\frac{q^2}{2\\pi\\epsilon_{0}L}ln(\\frac{b}{a}))$$\n",
        "\n",
        "El radio a de la varilla es muy pequeño, el cual tiende a 0, veamos como cambia la capacitancia en funcion de este radio cuando tienen a 0.\n",
        "\n",
        "---\n",
        "\n",
        "\n"
      ]
    },
    {
      "cell_type": "code",
      "metadata": {
        "id": "yEnGvlXjRYml",
        "colab": {
          "base_uri": "https://localhost:8080/",
          "height": 295
        },
        "outputId": "cd7df59d-aca6-48a5-ebc6-a38261ab1bd5"
      },
      "source": [
        "import matplotlib.pyplot as plt\n",
        "import numpy as np\n",
        "import math \n",
        "#Valores cualquiera\n",
        "b = 10\n",
        "L = 1000\n",
        "#Aumentamos el radio a hasta 1 para observar su comportamiento cuando tiende a 0\n",
        "a = np.arange(0.001,1,0.05)\n",
        "#Función de la capacitancia\n",
        "f = (2*np.pi*(8.854187817*(10**(-12)))*L)/(np.log(b/a))\n",
        "#Plot\n",
        "plt.plot(a,f)\n",
        "plt.ylabel('Capacitancia ')\n",
        "plt.xlabel('Radio a')\n",
        "plt.title('Cambio de la capacitancia')\n",
        "plt.grid(True)\n",
        "\n",
        "#Se puede observar que entre menor sea el Radio a menor es la capacitancia."
      ],
      "execution_count": null,
      "outputs": [
        {
          "output_type": "display_data",
          "data": {
            "image/png": "[encoded data removed]",
            "text/plain": [
              "<Figure size 432x288 with 1 Axes>"
            ]
          },
          "metadata": {
            "tags": [],
            "needs_background": "light"
          }
        }
      ]
    },
    {
      "cell_type": "markdown",
      "metadata": {
        "id": "o31U9BBuRcq1"
      },
      "source": [
        "3) En un triangulo equilatero el baricentro ( punto donde se interceptan las medianas del\n",
        "triangulo ), esta justamente a ⅓ de la altura de cada lado . Suponga que se arma un\n",
        "triangulo equilatero de lado L juntando tres varillas con densidad de carga uniforme λ .\n",
        "Determine el potencial eléctrico de este arreglo de varillas, justo en el baricentro. Si\n",
        "cambiamos la figura por un arreglo hexagonal de lado L, cual seria el potencial en el centro de\n",
        "este hexágono.\n",
        "\n",
        "Para resolver este ejercicio primero definimos la altura del baricentro. \n"
      ]
    },
    {
      "cell_type": "code",
      "metadata": {
        "id": "e1T4cwQJ38tm",
        "colab": {
          "base_uri": "https://localhost:8080/",
          "height": 317
        },
        "outputId": "1667b573-4fdf-45f1-ef0e-cbfa140ee659"
      },
      "source": [
        "Image('Punto 3.png',width = 500,  height = 300)\n"
      ],
      "execution_count": null,
      "outputs": [
        {
          "output_type": "execute_result",
          "data": {
            "image/png": "Punto 3.png",
            "text/plain": [
              "<IPython.core.display.Image object>"
            ]
          },
          "metadata": {
            "tags": [],
            "image/png": {
              "width": 500,
              "height": 300
            }
          },
          "execution_count": 13
        }
      ]
    },
    {
      "cell_type": "markdown",
      "metadata": {
        "id": "m8uWpogb4Em5"
      },
      "source": [
        "Con teorema de pitágoras podemos encontrar la altura del triángulo \n",
        "\n",
        "$$h = \\sqrt{{L^2}{-\\frac{L^2}{4}}}$$\n",
        "$$h = \\sqrt{L^2(3/4)}$$\n",
        "$$h = \\frac{L\\sqrt{3}}{2}$$\n",
        "\n",
        "En el enunciado nos dicen que la altura del baricentro en $\\frac{1}{3}$ de h por lo que la altura del baricentro (la cual llamaremos $y$)seria igual a  \n",
        "\n",
        "$$y =\\frac{3L\\sqrt{3}}{2}$$\n",
        "\n",
        "$x$ sera la distancia del dq al centro de la varilla.\n",
        "\n",
        "Sabemos que $$E = k\\frac{Q}{r^2}$$\n",
        "\n",
        "y su diferencial \n",
        "\n",
        "$$dE = k \\frac{dq}{r^2}$$\n",
        "\n",
        "Debemos calcular la componente en $y$ pues las componentes en $x$ se simplifican debido a que el punto se encuentra en la mitad de la varilla a una altura $y$\n",
        "\n",
        "$$dE_{y} = dE\\cos(\\theta)$$\n",
        "\n",
        "Por lo que $$dE_{y} = k\\frac{dq}{r^2}\\cos(\\theta)$$\n",
        "\n",
        "ahora encontramos $\\cos(\\theta)$, por identidad trigonométrica\n",
        "\n",
        "$$\\cos(\\theta) = \\frac{y}{\\sqrt{x^2 + y^2}}$$\n",
        "\n",
        "Reemplazando\n",
        "\n",
        "$$dE_{y} = k\\frac{ydq}{r^2\\sqrt{x^2 + y^2}}$$\n",
        "\n",
        "$r$ sera la distancia de $dq$ hasta el punto. \n",
        "\n",
        "$$r = \\sqrt{x^2 + y^2}$$\n",
        "\n",
        "Reemplazando y realizando algunas simplificaciones \n",
        "\n",
        "$$dE_{y} = k\\frac{ydq}{(x^2 + y^2)^{3/2}}$$\n",
        "\n",
        "Ahora realizamos las integrales. \n",
        "\n",
        "Los limites van desde 0, es decir, la mitad de la varilla hasta el extremo que seria $L/2$\n",
        "\n",
        "$$\\int dE_{y} = 2\\int_{0}^{L/2} k\\frac{ydq}{(x^2 + y^2)^{3/2}}$$\n",
        "\n",
        "Sacando las constantes \n",
        "\n",
        "$$\\int dE_{y} = 2ky\\int_{0}^{L/2} \\frac{dq}{(x^2 + y^2)^{3/2}}$$\n",
        "\n",
        "Ahora cambiamos $dq$ por medio de la densidad de carga lineal \n",
        "\n",
        "$$dq = \\lambda dx$$\n",
        "\n",
        "$$\\int dE_{y} = 2ky\\lambda \\int_{0}^{L/2} \\frac{dx}{(x^2 + y^2)^{3/2}}$$\n",
        "\n",
        "Aplicamos sustitución trigonométrica para resolver la integral\n",
        "\n",
        "$$x = y \\tan(\\theta)$$\n",
        "\n",
        "$$dx = y\\sec^2({\\theta}) d\\theta$$\n",
        "\n",
        "Entonces tendriamos que \n",
        "\n",
        "$$E_{y} = 2ky\\lambda \\int_{0}^{L/2} \\frac{y \\sec^2(\\theta) d\\theta}{((y\\tan(\\theta))^2 + y^2)^{3/2}}$$\n",
        "\n",
        "Realizando toda la respectiva simplificación obtendriamos lo siguiente \n",
        "$$E_{y} = \\frac{2k\\lambda}{y} \\int_{0}^{L/2} \\cos(\\theta) d\\theta$$\n",
        "\n",
        "Integrando \n",
        "\n",
        "$$E_{y} = \\frac{2k\\lambda}{y} \\sin(\\theta)|_{0}^{L/2}$$\n",
        "\n",
        "Regresando los valores originales \n",
        "\n",
        "$$E_{y} = \\frac{2k\\lambda}{y} \\frac{x}{\\sqrt{x^2 + y^2}}|_{0}^{L/2}$$\n",
        "\n",
        "Evaluando los limites y realizando las respectivas simplificaciones obtenemos por resultado \n",
        "\n",
        "$$E_{y} = \\frac{2k\\lambda}{y}\\frac{2L}{2\\sqrt{(L^2 + 4y^2)}}$$\n",
        "\n",
        "Como conocemos el valor de $y$ lo reemplazamos en la expresión anterior \n",
        "\n",
        "$$E_{y} = \\frac{2k\\lambda}{\\frac{3L\\sqrt{3}}{2}}\\frac{2L}{2\\sqrt{(L^2 + 4(\\frac{3L\\sqrt{3}}{2})^2)}}$$\n",
        "\n",
        "Ahora el voltaje para un campo electrico constante esta dado por \n",
        "\n",
        "$$V = Ed$$\n",
        "\n",
        "El campo ya lo conocemos y la distancia es igual a $y$ por lo que nuestro voltaje es igual a \n",
        "\n",
        "$$V = \\frac{2k\\lambda}{\\frac{3L\\sqrt{3}}{2}}\\frac{2L}{2\\sqrt{(L^2 + 4(\\frac{3L\\sqrt{3}}{2})^2)}}\\frac{3L\\sqrt{3}}{2}$$\n",
        "\n",
        "Simplificando tenemos el resultado \n",
        "\n",
        "$$V = \\frac{2L{k\\lambda}}{\\sqrt{(L^2 + 4(\\frac{3L\\sqrt{3}}{2})^2)}}$$\n",
        "\n",
        "Ahora por el principio de superposicion, el voltaje total en el baricentro del triángulo es igual a la suma del voltaje suministrado por cada varilla. \n",
        "\n",
        "Ya que las varillas tienen un misma longitud y una distancia igual al baricentro tendriamos que \n",
        "\n",
        "$$V_{total} = 3(\\frac{2L{k\\lambda}}{\\sqrt{(L^2 + 4(\\frac{3L\\sqrt{3}}{2})^2)}})$$\n",
        "\n",
        "- Para un hexágono\n",
        "\n",
        "\n",
        "\n",
        "\n",
        "\n",
        "\n",
        "\n",
        "\n"
      ]
    },
    {
      "cell_type": "code",
      "metadata": {
        "id": "KfZ49HLvDiKr",
        "colab": {
          "base_uri": "https://localhost:8080/",
          "height": 317
        },
        "outputId": "9cdf7100-19df-4015-af70-79b739356140"
      },
      "source": [
        "Image('Hexanogo.png',width = 500,  height = 300)"
      ],
      "execution_count": null,
      "outputs": [
        {
          "output_type": "execute_result",
          "data": {
            "image/png": "Hexanogo.png",
            "text/plain": [
              "<IPython.core.display.Image object>"
            ]
          },
          "metadata": {
            "tags": [],
            "image/png": {
              "width": 500,
              "height": 300
            }
          },
          "execution_count": 14
        }
      ]
    },
    {
      "cell_type": "markdown",
      "metadata": {
        "id": "RKNnbrlZDrTX"
      },
      "source": [
        "Es este caso tendriamos campos iguales pero en dirección contraria a una misma distancia del centro, por lo que todos estos campos se cancelarian en medio del hexágono. \n",
        "\n",
        "---\n",
        "\n",
        "4) Una esfera dieléctrica de radio R, porta una carga Q. Determine el campo eléctrico en todos\n",
        "los puntos del espacio para esta esfera. Luego empleando el campo eléctrico determine EL\n",
        "POTENCIAL ELÉCTRICO PARA UN PUNTO FUERA DE LA ESFERA y para un punto\n",
        "DENTRO DE LA ESFERA.\n"
      ]
    },
    {
      "cell_type": "code",
      "metadata": {
        "id": "iMy3MYx6Kb0X",
        "colab": {
          "base_uri": "https://localhost:8080/",
          "height": 317
        },
        "outputId": "9e4c2e5f-0fa2-4171-c0e1-47f2efe60428"
      },
      "source": [
        "Image('Punto4.png',width = 500,  height = 300)"
      ],
      "execution_count": null,
      "outputs": [
        {
          "output_type": "execute_result",
          "data": {
            "image/png": "Punto4.png",
            "text/plain": [
              "<IPython.core.display.Image object>"
            ]
          },
          "metadata": {
            "tags": [],
            "image/png": {
              "width": 500,
              "height": 300
            }
          },
          "execution_count": 15
        }
      ]
    },
    {
      "cell_type": "markdown",
      "metadata": {
        "id": "eafakNIUKwTO"
      },
      "source": [
        "El campo electrico generado por esta esfera de carga $Q$ podemos obtenerlo por medio de la ley de Gauss. \n",
        "\n",
        "Tenemos la superficie Gaussiana que es el circulo de radio $r$ de forma que $r > R$.\n",
        "\n",
        "En cada punto de la superficie el campo eléctrico tiene el mismo valor y tiene una dirección radial hacia afuera. \n",
        "\n",
        "El flujo electrico será entonces \n",
        "\n",
        "$$\\phi = EA$$\n",
        "$$E4\\pi r^2 = \\frac{Q}{\\epsilon_{0}}$$\n",
        "\n",
        "Entonces para todo punto fuera de la esfera a una distancia $r$ el campo eléctric será\n",
        "\n",
        "Para $r > R$\n",
        "$$E = \\frac{Q}{4\\pi\\epsilon_{0}r^2}$$\n",
        "\n",
        "Si tomamos $r < R$ el campo eléctrico estará dirigido radialmente hacia afuera, pero considerando la simetría \n",
        "esta superficie gaussiana tendrá una carga menor por lo que el campo eléctrico también sería menor. \n",
        "\n",
        "Esta carga interior podemos hallarla por la proporción entre volúmenes\n",
        "\n",
        "$Q' =$ Superficie gaussiana interior\n",
        "\n",
        "$Q =$ Esfera cargada\n",
        "\n",
        "$$\\frac{Q'}{Q} = \\frac{\\frac{4}{3}\\pi r^3}{\\frac{4}{3}\\pi R^3}$$\n",
        "\n",
        "$$Q' = Q\\frac{r^3}{R^3}$$\n",
        "\n",
        "Entonces el flujo eléctrico está dado por \n",
        "\n",
        "$$\\phi = E4\\pi r^2 = \\frac{Qr^3}{\\epsilon_{0}R^3}$$\n",
        "\n",
        "Despejando el campo eléctrico tenemos que\n",
        "\n",
        "$$E = \\frac{Qr}{4\\pi\\epsilon_{0}R^3}$$\n",
        "\n",
        "Lo siguiente es hallar el potencial eléctrico. \n",
        "\n",
        "$$V = -\\int_{\\infty}^{r} \\vec{E} \\cdot d\\vec{r}$$\n",
        "\n",
        "$$V(r) = -\\int_{\\infty}^{r} \\frac{Q}{4\\pi\\epsilon_{0}r^2}\\cdot dr$$\n",
        "\n",
        "Este dr que viene del punto en el infinito lo hace en sentido contrario del campo eléctrico, sacando este signo menos resultante tendríamos que \n",
        "\n",
        "$$V(r) = \\int_{r}^{\\infty} \\frac{Q}{4\\pi\\epsilon_{0}r^2}\\cdot dr$$\n",
        "\n",
        "Sacamos las constantes \n",
        "\n",
        "$$V(r) = \\frac{Q}{4\\pi\\epsilon_{0}} \\int_{r}^{\\infty} \\frac{dr}{r^2}$$\n",
        "\n",
        "Integrando \n",
        "\n",
        "$$V(r) = \\frac{Q}{4\\pi\\epsilon_{0}} [\\frac{-1}{r}]_{r}^{\\infty}$$\n",
        "\n",
        "Evaluando los limites \n",
        "\n",
        "$$V(r) = \\frac{Q}{4\\pi\\epsilon_{0}} [\\frac{-1}{\\infty}- \\frac{-1}{r}] = \\frac{Q}{4\\pi\\epsilon_{0}r} $$\n",
        "\n",
        "Entonces para $r > R$\n",
        "$$V(r) = \\frac{Q}{4\\pi\\epsilon_{0}r}$$\n",
        "\n",
        "y para $r < R$\n",
        "\n",
        "$$V(r) = \\frac{Q}{4\\pi\\epsilon_{0}R}$$\n",
        "\n",
        "--- \n",
        "\n",
        "5) Dos capacitores esféricos idénticos, están\n",
        "formados por cascarones de radios interno a y\n",
        "externo b, como se muestra en la figura. En la\n",
        "figura las lineas punteadas indican conexión entre\n",
        "los cascarones. En la parte superior (A) ,\n",
        "unicamente los cascarones internos están\n",
        "conectados. En la parte inferior (B) , tanto los\n",
        "cascarones interiores como exteriores están\n",
        "conectado entre si. En ambos casos determine la\n",
        "capacitancia equivalente."
      ]
    },
    {
      "cell_type": "code",
      "metadata": {
        "id": "pzVW4aSdZaKc",
        "colab": {
          "base_uri": "https://localhost:8080/",
          "height": 317
        },
        "outputId": "21ac708f-ba11-4e28-aa8d-41b8dff9dc6a"
      },
      "source": [
        "Image('Punto5.PNG',width = 500,  height = 300)"
      ],
      "execution_count": null,
      "outputs": [
        {
          "output_type": "execute_result",
          "data": {
            "image/png": "Punto5.PNG",
            "text/plain": [
              "<IPython.core.display.Image object>"
            ]
          },
          "metadata": {
            "tags": [],
            "image/png": {
              "width": 500,
              "height": 300
            }
          },
          "execution_count": 16
        }
      ]
    },
    {
      "cell_type": "markdown",
      "metadata": {
        "id": "HW-x50T1Zvnx"
      },
      "source": [
        "Comencemos por calcular la capacitancia de este capacitor formado por dos cascarones. \n",
        "\n",
        "Lo primero que debemos hacer es suponer que en el cascarón exterior tenemos una carga positiva y en el interior una carga negativa. \n",
        "Con esto en mente empleamos la ley de Gauss con el fin de calcular el campo electrico en un punto que se encuentre en medio de los dos cascarones. \n",
        "\n",
        "Para esto, dibujamos una superficie Gaussiana tal que $a < r < b$\n",
        "\n"
      ]
    },
    {
      "cell_type": "code",
      "metadata": {
        "id": "uUWeKn5Lbu2h",
        "colab": {
          "base_uri": "https://localhost:8080/",
          "height": 317
        },
        "outputId": "b92c5c25-3409-4751-e35e-9c575240939b"
      },
      "source": [
        "Image('capacitor.png',width = 500,  height = 300)"
      ],
      "execution_count": null,
      "outputs": [
        {
          "output_type": "execute_result",
          "data": {
            "image/png": "capacitor.png",
            "text/plain": [
              "<IPython.core.display.Image object>"
            ]
          },
          "metadata": {
            "tags": [],
            "image/png": {
              "width": 500,
              "height": 300
            }
          },
          "execution_count": 17
        }
      ]
    },
    {
      "cell_type": "markdown",
      "metadata": {
        "id": "T3mq-Dngb76x"
      },
      "source": [
        "Nuestro campo eléctrico será entonces: \n",
        "\n",
        "$$\\vec{E} = \\frac{Q}{4\\pi\\epsilon_{0}r^2}\\hat{r}$$\n",
        "\n",
        "Con la expresión anterior podemos obtener la diferencia de potencial que hay entre los dos cascarones\n",
        "\n",
        "$$\\triangle V = - \\int_{a}^{b}\\frac{Q}{4\\pi\\epsilon_{0}r^2}dr$$\n",
        "\n",
        "Sacando las constantes y realizando la integral tenemos que \n",
        "\n",
        "$$\\triangle V =\\frac{Q}{4\\pi\\epsilon_{0}}(\\frac{1}{a}-\\frac{1}{b})$$\n",
        "\n",
        "Ahora solo falta aplicar la definición de capacitancia, por lo que tendriamos que \n",
        "\n",
        "$$C = \\frac{4\\pi\\epsilon_{0}ab}{b-a}$$\n",
        "\n",
        "Ahora analicemos las figuras.\n",
        "\n",
        "En el caso de la figura (a) tenemos un dos capacitores conectados en serie, ya que estos capacitores son idénticos, su capacitancia tambien.\n",
        "\n",
        "Una asociación en serie de n condensadores C1, C2, ..., Cn es equivalente a sustituirlos por un único condensador en el que se cumple que su capacidad C es\n",
        "\n",
        "$$\\frac{1}{C_{total}} = \\frac{1}{C_{1}} + \\frac{1}{C_{2}} + ... +\\frac{1}{C_{n}}$$\n",
        "\n",
        "Ya conocemos la capacitancia de nuestros capacitores, por lo que reemplazamos sus valores\n",
        "\n",
        "$$\\frac{1}{C_{total}} = \\frac{1}{\\frac{4\\pi\\epsilon_{0}ab}{b-a}} + \\frac{1}{\\frac{4\\pi\\epsilon_{0}ab}{b-a}} $$\n",
        "\n",
        "$$\\frac{1}{C_{total}} = \\frac{2}{\\frac{4\\pi\\epsilon_{0}ab}{b-a}} $$\n",
        "\n",
        "$$C_{total} = \\frac{b-a}{8\\pi\\epsilon_{0}ab}$$\n",
        "\n",
        "En el caso de la figura (b) tenemos un capacitor conectado en paralelo, por lo que la capacitancia total es simplemente la suma de la capacitancia de cada capacitor.\n",
        "\n",
        "Como ya conocemos la capacitancia, nuestro resultado es \n",
        "\n",
        "$$C_{total} = \\frac{4\\pi\\epsilon_{0}ab}{b-a} + \\frac{4\\pi\\epsilon_{0}ab}{b-a}$$\n",
        "\n",
        "$$C_{total} = \\frac{8\\pi\\epsilon_{0}ab}{b-a}$$\n",
        "\n",
        "\n",
        "\n",
        "\n",
        "\n"
      ]
    }
  ]
}